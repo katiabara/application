{
  "cells": [
    {
      "cell_type": "markdown",
      "metadata": {
        "id": "view-in-github",
        "colab_type": "text"
      },
      "source": [
        "<a href=\"https://colab.research.google.com/github/katiabara/application/blob/main/PROJET_AARN.ipynb\" target=\"_parent\"><img src=\"https://colab.research.google.com/assets/colab-badge.svg\" alt=\"Open In Colab\"/></a>"
      ]
    },
    {
      "cell_type": "markdown",
      "id": "83eb28f5",
      "metadata": {
        "id": "83eb28f5"
      },
      "source": [
        "# Projet de fin de semestre"
      ]
    },
    {
      "cell_type": "markdown",
      "id": "b9695d6a",
      "metadata": {
        "id": "b9695d6a"
      },
      "source": [
        "# Introduction"
      ]
    },
    {
      "cell_type": "markdown",
      "id": "ae70bf9c",
      "metadata": {
        "id": "ae70bf9c"
      },
      "source": [
        "\n",
        "Pour ce projet, l’objectif est d’utiliser les notions apprises durant ce semestre pour résoudre un problème de sciences de données. Les étudiants en binôme devront implémenter un classifieur de tweet dans le contexte de l’analyse des sentiments.\n"
      ]
    },
    {
      "cell_type": "markdown",
      "id": "aa652de9",
      "metadata": {
        "id": "aa652de9"
      },
      "source": [
        "# Étape 1 : préparation des données"
      ]
    },
    {
      "cell_type": "markdown",
      "id": "560c2907",
      "metadata": {
        "id": "560c2907"
      },
      "source": [
        " Cela implique le nettoyage et la transformation des tweets pour les rendre adaptés à l'analyse de sentiment. Voici les sous-étapes :\n",
        "\n",
        "Nettoyage des tweets : Convertir le texte en minuscules, supprimer les balises HTML, réduire les mots à leur forme radicale, supprimer la ponctuation et les non-mots, et enlever les mots vides.\n",
        "\n",
        "Construction du vocabulaire : Créer une liste de mots à partir des tweets prétraités et conserver uniquement les mots qui apparaissent au moins un certain nombre de fois dans le corpus de tweets (K fois). Enregistrer cette liste dans un fichier.\n",
        "\n",
        "Extraction des caractéristiques : Convertir chaque tweet en un vecteur de caractéristiques, en utilisant soit une représentation binaire (0 ou 1 selon la présence d'un mot), soit une représentation par comptage (nombre d'apparitions de chaque mot).\n",
        "\n",
        "Ces étapes préliminaires permettent de préparer les données de manière à ce qu'elles puissent être utilisées pour entraîner un modèle d'analyse de sentiment."
      ]
    },
    {
      "cell_type": "code",
      "execution_count": null,
      "id": "31b4fc10",
      "metadata": {
        "colab": {
          "base_uri": "https://localhost:8080/"
        },
        "id": "31b4fc10",
        "outputId": "ada588a0-69e8-4e5c-96c8-3d27952ff793"
      },
      "outputs": [
        {
          "output_type": "stream",
          "name": "stderr",
          "text": [
            "[nltk_data] Downloading package stopwords to /root/nltk_data...\n",
            "[nltk_data]   Package stopwords is already up-to-date!\n",
            "[nltk_data] Downloading package punkt to /root/nltk_data...\n",
            "[nltk_data]   Package punkt is already up-to-date!\n"
          ]
        },
        {
          "output_type": "execute_result",
          "data": {
            "text/plain": [
              "True"
            ]
          },
          "metadata": {},
          "execution_count": 2
        }
      ],
      "source": [
        "# Import des bibliothèques nécessaires\n",
        "import nltk\n",
        "from nltk.tokenize import TweetTokenizer\n",
        "from nltk.corpus import stopwords\n",
        "from nltk.stem import PorterStemmer\n",
        "import re\n",
        "import pandas as pd\n",
        "import numpy as np\n",
        "\n",
        "\n",
        "# Téléchargement des ressources nécessaires de NLTK\n",
        "nltk.download('stopwords')\n",
        "nltk.download('punkt')\n"
      ]
    },
    {
      "cell_type": "code",
      "execution_count": null,
      "id": "DUjBPSTx1XH3",
      "metadata": {
        "colab": {
          "base_uri": "https://localhost:8080/"
        },
        "id": "DUjBPSTx1XH3",
        "outputId": "d106fcc9-a578-4d5d-b04d-572a798ba2d1"
      },
      "outputs": [
        {
          "output_type": "stream",
          "name": "stdout",
          "text": [
            "Drive already mounted at /content/drive; to attempt to forcibly remount, call drive.mount(\"/content/drive\", force_remount=True).\n"
          ]
        }
      ],
      "source": [
        "from google.colab import drive\n",
        "drive.mount('/content/drive')"
      ]
    },
    {
      "cell_type": "markdown",
      "id": "fb78d8bd",
      "metadata": {
        "id": "fb78d8bd"
      },
      "source": [
        "Nous commençons par importer les bibliothèques nécessaires pour effectuer le nettoyage des tweets.\n",
        "nltk (Natural Language Toolkit) est utilisé pour le traitement naturel du langage, qui fournit des outils pour le prétraitement du texte.\n",
        "re est la bibliothèque Python pour les expressions régulières, qui est utilisée pour la manipulation de chaînes de caractères.\n",
        "\n",
        "Nous utilisons la fonction download de NLTK pour télécharger les ressources nécessaires, telles que la liste des mots vides (stopwords) et le tokenizer de tweets."
      ]
    },
    {
      "cell_type": "code",
      "execution_count": null,
      "id": "48550477",
      "metadata": {
        "id": "48550477"
      },
      "outputs": [],
      "source": [
        "# Charger le fichier CSV\n",
        "df = pd.read_csv(\"/content/drive/MyDrive/Projet TP AARN/training.1600000.processed.noemoticon.csv\", encoding='ISO-8859-1', header=None)\n"
      ]
    },
    {
      "cell_type": "code",
      "execution_count": null,
      "id": "abc11dd4",
      "metadata": {
        "id": "abc11dd4"
      },
      "outputs": [],
      "source": [
        "# Renommer les colonnes\n",
        "df.columns = [\"target\", \"ids\", \"date\", \"flag\", \"user\", \"text\"]"
      ]
    },
    {
      "cell_type": "markdown",
      "id": "397dadb3",
      "metadata": {
        "id": "397dadb3"
      },
      "source": [
        "Le fichier CSV contenant les données des tweets est chargé dans un DataFrame Pandas. Les colonnes du DataFrame sont nommées en fonction des informations contenues dans le fichier."
      ]
    },
    {
      "cell_type": "code",
      "execution_count": null,
      "id": "c568d44c",
      "metadata": {
        "id": "c568d44c"
      },
      "outputs": [],
      "source": [
        "# Supprimer les colonnes inutiles\n",
        "df.drop([\"ids\", \"date\", \"flag\", \"user\"], axis=1, inplace=True)"
      ]
    },
    {
      "cell_type": "markdown",
      "id": "d57e3611",
      "metadata": {
        "id": "d57e3611"
      },
      "source": [
        "Les colonnes inutiles comme l'ID, la date, le flag et le nom d'utilisateur sont supprimées car elles ne sont pas nécessaires pour notre analyse."
      ]
    },
    {
      "cell_type": "code",
      "execution_count": null,
      "id": "d81ebb1d",
      "metadata": {
        "id": "d81ebb1d"
      },
      "outputs": [],
      "source": [
        "import re\n",
        "from nltk.tokenize import TweetTokenizer\n",
        "from nltk.corpus import stopwords\n",
        "from nltk.stem import PorterStemmer\n",
        "\n",
        "def clean_tweet(tweet):\n",
        "    # Convertir en minuscules\n",
        "    tweet = tweet.lower()\n",
        "\n",
        "    # Supprimer les balises HTML\n",
        "    tweet = re.sub(r'<[^>]+>', '', tweet)\n",
        "    tweet = re.sub(r'[?/.,<>!@#$%^&*()_\\-+={}[\\]|\":;]', '', tweet)\n",
        "    # Remplacer tous les non-mots, ponctuations, chiffres, et caractères spéciaux par un espace\n",
        "    tweet = re.sub(r'[^a-zA-Z\\s]', ' ', tweet)\n",
        "\n",
        "    # Supprimer les mots vides (stopwords)\n",
        "    stop_words = set(stopwords.words('english'))\n",
        "\n",
        "    # Tokenization du tweet\n",
        "    tokenizer = TweetTokenizer()\n",
        "    tokens = tokenizer.tokenize(tweet)\n",
        "\n",
        "    # Supprimer les mots vides (stopwords) et les mots de longueur 1\n",
        "    tokens = [token for token in tokens if token.lower() not in stop_words and len(token) > 1]\n",
        "\n",
        "    # Réduction des mots à leur forme radicale\n",
        "    stemmer = PorterStemmer()\n",
        "    tokens = [stemmer.stem(token) for token in tokens]\n",
        "\n",
        "    # Réassembler les tokens\n",
        "    cleaned_tweet = ' '.join(tokens)\n",
        "\n",
        "    return cleaned_tweet\n"
      ]
    },
    {
      "cell_type": "markdown",
      "id": "d1508436",
      "metadata": {
        "id": "d1508436"
      },
      "source": [
        "Une fonction est définie pour nettoyer chaque tweet. Cette fonction effectue plusieurs étapes de nettoyage, telles que la conversion en minuscules, la suppression des balises HTML, la tokenization, la suppression des mots vides, la réduction des mots à leur forme radicale, et la réassemblage des tokens nettoyés en une seule chaîne de caractères."
      ]
    },
    {
      "cell_type": "code",
      "execution_count": null,
      "id": "ce1381ce",
      "metadata": {
        "id": "ce1381ce"
      },
      "outputs": [],
      "source": [
        "# Appliquer la fonction de nettoyage à tous les tweets\n",
        "df['cleaned_text'] = df['text'].apply(clean_tweet)\n",
        "df.to_csv('dataset.csv', index=False)"
      ]
    },
    {
      "cell_type": "markdown",
      "id": "5a1146c5",
      "metadata": {
        "id": "5a1146c5"
      },
      "source": [
        "La fonction de nettoyage est appliquée à chaque tweet dans la colonne \"text\" du DataFrame, et les tweets nettoyés sont stockés dans une nouvelle colonne appelée \"cleaned_text\"."
      ]
    },
    {
      "cell_type": "code",
      "execution_count": null,
      "id": "26ced0a1",
      "metadata": {
        "id": "26ced0a1",
        "colab": {
          "base_uri": "https://localhost:8080/"
        },
        "outputId": "e77e4a04-7612-4865-a274-3f551a4ea2f1"
      },
      "outputs": [
        {
          "output_type": "execute_result",
          "data": {
            "text/plain": [
              "         target                                               text  \\\n",
              "0             0  @switchfoot http://twitpic.com/2y1zl - Awww, t...   \n",
              "1             0  is upset that he can't update his Facebook by ...   \n",
              "2             0  @Kenichan I dived many times for the ball. Man...   \n",
              "3             0    my whole body feels itchy and like its on fire    \n",
              "4             0  @nationwideclass no, it's not behaving at all....   \n",
              "...         ...                                                ...   \n",
              "1599995       4  Just woke up. Having no school is the best fee...   \n",
              "1599996       4  TheWDB.com - Very cool to hear old Walt interv...   \n",
              "1599997       4  Are you ready for your MoJo Makeover? Ask me f...   \n",
              "1599998       4  Happy 38th Birthday to my boo of alll time!!! ...   \n",
              "1599999       4  happy #charitytuesday @theNSPCC @SparksCharity...   \n",
              "\n",
              "                                              cleaned_text  \n",
              "0        switchfoot httptwitpiccom zl awww bummer shoul...  \n",
              "1        upset updat facebook text might cri result sch...  \n",
              "2        kenichan dive mani time ball manag save rest g...  \n",
              "3                          whole bodi feel itchi like fire  \n",
              "4                            nationwideclass behav mad see  \n",
              "...                                                    ...  \n",
              "1599995                         woke school best feel ever  \n",
              "1599996  thewdbcom cool hear old walt interview httpbli...  \n",
              "1599997                       readi mojo makeov ask detail  \n",
              "1599998  happi th birthday boo alll time tupac amaru sh...  \n",
              "1599999  happi charitytuesday thenspcc sparkschar speak...  \n",
              "\n",
              "[1600000 rows x 3 columns]"
            ],
            "text/html": [
              "\n",
              "  <div id=\"df-86da735e-e64a-4c04-95d9-fe873516a911\" class=\"colab-df-container\">\n",
              "    <div>\n",
              "<style scoped>\n",
              "    .dataframe tbody tr th:only-of-type {\n",
              "        vertical-align: middle;\n",
              "    }\n",
              "\n",
              "    .dataframe tbody tr th {\n",
              "        vertical-align: top;\n",
              "    }\n",
              "\n",
              "    .dataframe thead th {\n",
              "        text-align: right;\n",
              "    }\n",
              "</style>\n",
              "<table border=\"1\" class=\"dataframe\">\n",
              "  <thead>\n",
              "    <tr style=\"text-align: right;\">\n",
              "      <th></th>\n",
              "      <th>target</th>\n",
              "      <th>text</th>\n",
              "      <th>cleaned_text</th>\n",
              "    </tr>\n",
              "  </thead>\n",
              "  <tbody>\n",
              "    <tr>\n",
              "      <th>0</th>\n",
              "      <td>0</td>\n",
              "      <td>@switchfoot http://twitpic.com/2y1zl - Awww, t...</td>\n",
              "      <td>switchfoot httptwitpiccom zl awww bummer shoul...</td>\n",
              "    </tr>\n",
              "    <tr>\n",
              "      <th>1</th>\n",
              "      <td>0</td>\n",
              "      <td>is upset that he can't update his Facebook by ...</td>\n",
              "      <td>upset updat facebook text might cri result sch...</td>\n",
              "    </tr>\n",
              "    <tr>\n",
              "      <th>2</th>\n",
              "      <td>0</td>\n",
              "      <td>@Kenichan I dived many times for the ball. Man...</td>\n",
              "      <td>kenichan dive mani time ball manag save rest g...</td>\n",
              "    </tr>\n",
              "    <tr>\n",
              "      <th>3</th>\n",
              "      <td>0</td>\n",
              "      <td>my whole body feels itchy and like its on fire</td>\n",
              "      <td>whole bodi feel itchi like fire</td>\n",
              "    </tr>\n",
              "    <tr>\n",
              "      <th>4</th>\n",
              "      <td>0</td>\n",
              "      <td>@nationwideclass no, it's not behaving at all....</td>\n",
              "      <td>nationwideclass behav mad see</td>\n",
              "    </tr>\n",
              "    <tr>\n",
              "      <th>...</th>\n",
              "      <td>...</td>\n",
              "      <td>...</td>\n",
              "      <td>...</td>\n",
              "    </tr>\n",
              "    <tr>\n",
              "      <th>1599995</th>\n",
              "      <td>4</td>\n",
              "      <td>Just woke up. Having no school is the best fee...</td>\n",
              "      <td>woke school best feel ever</td>\n",
              "    </tr>\n",
              "    <tr>\n",
              "      <th>1599996</th>\n",
              "      <td>4</td>\n",
              "      <td>TheWDB.com - Very cool to hear old Walt interv...</td>\n",
              "      <td>thewdbcom cool hear old walt interview httpbli...</td>\n",
              "    </tr>\n",
              "    <tr>\n",
              "      <th>1599997</th>\n",
              "      <td>4</td>\n",
              "      <td>Are you ready for your MoJo Makeover? Ask me f...</td>\n",
              "      <td>readi mojo makeov ask detail</td>\n",
              "    </tr>\n",
              "    <tr>\n",
              "      <th>1599998</th>\n",
              "      <td>4</td>\n",
              "      <td>Happy 38th Birthday to my boo of alll time!!! ...</td>\n",
              "      <td>happi th birthday boo alll time tupac amaru sh...</td>\n",
              "    </tr>\n",
              "    <tr>\n",
              "      <th>1599999</th>\n",
              "      <td>4</td>\n",
              "      <td>happy #charitytuesday @theNSPCC @SparksCharity...</td>\n",
              "      <td>happi charitytuesday thenspcc sparkschar speak...</td>\n",
              "    </tr>\n",
              "  </tbody>\n",
              "</table>\n",
              "<p>1600000 rows × 3 columns</p>\n",
              "</div>\n",
              "    <div class=\"colab-df-buttons\">\n",
              "\n",
              "  <div class=\"colab-df-container\">\n",
              "    <button class=\"colab-df-convert\" onclick=\"convertToInteractive('df-86da735e-e64a-4c04-95d9-fe873516a911')\"\n",
              "            title=\"Convert this dataframe to an interactive table.\"\n",
              "            style=\"display:none;\">\n",
              "\n",
              "  <svg xmlns=\"http://www.w3.org/2000/svg\" height=\"24px\" viewBox=\"0 -960 960 960\">\n",
              "    <path d=\"M120-120v-720h720v720H120Zm60-500h600v-160H180v160Zm220 220h160v-160H400v160Zm0 220h160v-160H400v160ZM180-400h160v-160H180v160Zm440 0h160v-160H620v160ZM180-180h160v-160H180v160Zm440 0h160v-160H620v160Z\"/>\n",
              "  </svg>\n",
              "    </button>\n",
              "\n",
              "  <style>\n",
              "    .colab-df-container {\n",
              "      display:flex;\n",
              "      gap: 12px;\n",
              "    }\n",
              "\n",
              "    .colab-df-convert {\n",
              "      background-color: #E8F0FE;\n",
              "      border: none;\n",
              "      border-radius: 50%;\n",
              "      cursor: pointer;\n",
              "      display: none;\n",
              "      fill: #1967D2;\n",
              "      height: 32px;\n",
              "      padding: 0 0 0 0;\n",
              "      width: 32px;\n",
              "    }\n",
              "\n",
              "    .colab-df-convert:hover {\n",
              "      background-color: #E2EBFA;\n",
              "      box-shadow: 0px 1px 2px rgba(60, 64, 67, 0.3), 0px 1px 3px 1px rgba(60, 64, 67, 0.15);\n",
              "      fill: #174EA6;\n",
              "    }\n",
              "\n",
              "    .colab-df-buttons div {\n",
              "      margin-bottom: 4px;\n",
              "    }\n",
              "\n",
              "    [theme=dark] .colab-df-convert {\n",
              "      background-color: #3B4455;\n",
              "      fill: #D2E3FC;\n",
              "    }\n",
              "\n",
              "    [theme=dark] .colab-df-convert:hover {\n",
              "      background-color: #434B5C;\n",
              "      box-shadow: 0px 1px 3px 1px rgba(0, 0, 0, 0.15);\n",
              "      filter: drop-shadow(0px 1px 2px rgba(0, 0, 0, 0.3));\n",
              "      fill: #FFFFFF;\n",
              "    }\n",
              "  </style>\n",
              "\n",
              "    <script>\n",
              "      const buttonEl =\n",
              "        document.querySelector('#df-86da735e-e64a-4c04-95d9-fe873516a911 button.colab-df-convert');\n",
              "      buttonEl.style.display =\n",
              "        google.colab.kernel.accessAllowed ? 'block' : 'none';\n",
              "\n",
              "      async function convertToInteractive(key) {\n",
              "        const element = document.querySelector('#df-86da735e-e64a-4c04-95d9-fe873516a911');\n",
              "        const dataTable =\n",
              "          await google.colab.kernel.invokeFunction('convertToInteractive',\n",
              "                                                    [key], {});\n",
              "        if (!dataTable) return;\n",
              "\n",
              "        const docLinkHtml = 'Like what you see? Visit the ' +\n",
              "          '<a target=\"_blank\" href=https://colab.research.google.com/notebooks/data_table.ipynb>data table notebook</a>'\n",
              "          + ' to learn more about interactive tables.';\n",
              "        element.innerHTML = '';\n",
              "        dataTable['output_type'] = 'display_data';\n",
              "        await google.colab.output.renderOutput(dataTable, element);\n",
              "        const docLink = document.createElement('div');\n",
              "        docLink.innerHTML = docLinkHtml;\n",
              "        element.appendChild(docLink);\n",
              "      }\n",
              "    </script>\n",
              "  </div>\n",
              "\n",
              "\n",
              "<div id=\"df-c7c09fd9-369c-48e9-bf2a-fdba9acca716\">\n",
              "  <button class=\"colab-df-quickchart\" onclick=\"quickchart('df-c7c09fd9-369c-48e9-bf2a-fdba9acca716')\"\n",
              "            title=\"Suggest charts\"\n",
              "            style=\"display:none;\">\n",
              "\n",
              "<svg xmlns=\"http://www.w3.org/2000/svg\" height=\"24px\"viewBox=\"0 0 24 24\"\n",
              "     width=\"24px\">\n",
              "    <g>\n",
              "        <path d=\"M19 3H5c-1.1 0-2 .9-2 2v14c0 1.1.9 2 2 2h14c1.1 0 2-.9 2-2V5c0-1.1-.9-2-2-2zM9 17H7v-7h2v7zm4 0h-2V7h2v10zm4 0h-2v-4h2v4z\"/>\n",
              "    </g>\n",
              "</svg>\n",
              "  </button>\n",
              "\n",
              "<style>\n",
              "  .colab-df-quickchart {\n",
              "      --bg-color: #E8F0FE;\n",
              "      --fill-color: #1967D2;\n",
              "      --hover-bg-color: #E2EBFA;\n",
              "      --hover-fill-color: #174EA6;\n",
              "      --disabled-fill-color: #AAA;\n",
              "      --disabled-bg-color: #DDD;\n",
              "  }\n",
              "\n",
              "  [theme=dark] .colab-df-quickchart {\n",
              "      --bg-color: #3B4455;\n",
              "      --fill-color: #D2E3FC;\n",
              "      --hover-bg-color: #434B5C;\n",
              "      --hover-fill-color: #FFFFFF;\n",
              "      --disabled-bg-color: #3B4455;\n",
              "      --disabled-fill-color: #666;\n",
              "  }\n",
              "\n",
              "  .colab-df-quickchart {\n",
              "    background-color: var(--bg-color);\n",
              "    border: none;\n",
              "    border-radius: 50%;\n",
              "    cursor: pointer;\n",
              "    display: none;\n",
              "    fill: var(--fill-color);\n",
              "    height: 32px;\n",
              "    padding: 0;\n",
              "    width: 32px;\n",
              "  }\n",
              "\n",
              "  .colab-df-quickchart:hover {\n",
              "    background-color: var(--hover-bg-color);\n",
              "    box-shadow: 0 1px 2px rgba(60, 64, 67, 0.3), 0 1px 3px 1px rgba(60, 64, 67, 0.15);\n",
              "    fill: var(--button-hover-fill-color);\n",
              "  }\n",
              "\n",
              "  .colab-df-quickchart-complete:disabled,\n",
              "  .colab-df-quickchart-complete:disabled:hover {\n",
              "    background-color: var(--disabled-bg-color);\n",
              "    fill: var(--disabled-fill-color);\n",
              "    box-shadow: none;\n",
              "  }\n",
              "\n",
              "  .colab-df-spinner {\n",
              "    border: 2px solid var(--fill-color);\n",
              "    border-color: transparent;\n",
              "    border-bottom-color: var(--fill-color);\n",
              "    animation:\n",
              "      spin 1s steps(1) infinite;\n",
              "  }\n",
              "\n",
              "  @keyframes spin {\n",
              "    0% {\n",
              "      border-color: transparent;\n",
              "      border-bottom-color: var(--fill-color);\n",
              "      border-left-color: var(--fill-color);\n",
              "    }\n",
              "    20% {\n",
              "      border-color: transparent;\n",
              "      border-left-color: var(--fill-color);\n",
              "      border-top-color: var(--fill-color);\n",
              "    }\n",
              "    30% {\n",
              "      border-color: transparent;\n",
              "      border-left-color: var(--fill-color);\n",
              "      border-top-color: var(--fill-color);\n",
              "      border-right-color: var(--fill-color);\n",
              "    }\n",
              "    40% {\n",
              "      border-color: transparent;\n",
              "      border-right-color: var(--fill-color);\n",
              "      border-top-color: var(--fill-color);\n",
              "    }\n",
              "    60% {\n",
              "      border-color: transparent;\n",
              "      border-right-color: var(--fill-color);\n",
              "    }\n",
              "    80% {\n",
              "      border-color: transparent;\n",
              "      border-right-color: var(--fill-color);\n",
              "      border-bottom-color: var(--fill-color);\n",
              "    }\n",
              "    90% {\n",
              "      border-color: transparent;\n",
              "      border-bottom-color: var(--fill-color);\n",
              "    }\n",
              "  }\n",
              "</style>\n",
              "\n",
              "  <script>\n",
              "    async function quickchart(key) {\n",
              "      const quickchartButtonEl =\n",
              "        document.querySelector('#' + key + ' button');\n",
              "      quickchartButtonEl.disabled = true;  // To prevent multiple clicks.\n",
              "      quickchartButtonEl.classList.add('colab-df-spinner');\n",
              "      try {\n",
              "        const charts = await google.colab.kernel.invokeFunction(\n",
              "            'suggestCharts', [key], {});\n",
              "      } catch (error) {\n",
              "        console.error('Error during call to suggestCharts:', error);\n",
              "      }\n",
              "      quickchartButtonEl.classList.remove('colab-df-spinner');\n",
              "      quickchartButtonEl.classList.add('colab-df-quickchart-complete');\n",
              "    }\n",
              "    (() => {\n",
              "      let quickchartButtonEl =\n",
              "        document.querySelector('#df-c7c09fd9-369c-48e9-bf2a-fdba9acca716 button');\n",
              "      quickchartButtonEl.style.display =\n",
              "        google.colab.kernel.accessAllowed ? 'block' : 'none';\n",
              "    })();\n",
              "  </script>\n",
              "</div>\n",
              "\n",
              "  <div id=\"id_4face1f6-cd8e-4ad0-89f2-8d37ce3e167d\">\n",
              "    <style>\n",
              "      .colab-df-generate {\n",
              "        background-color: #E8F0FE;\n",
              "        border: none;\n",
              "        border-radius: 50%;\n",
              "        cursor: pointer;\n",
              "        display: none;\n",
              "        fill: #1967D2;\n",
              "        height: 32px;\n",
              "        padding: 0 0 0 0;\n",
              "        width: 32px;\n",
              "      }\n",
              "\n",
              "      .colab-df-generate:hover {\n",
              "        background-color: #E2EBFA;\n",
              "        box-shadow: 0px 1px 2px rgba(60, 64, 67, 0.3), 0px 1px 3px 1px rgba(60, 64, 67, 0.15);\n",
              "        fill: #174EA6;\n",
              "      }\n",
              "\n",
              "      [theme=dark] .colab-df-generate {\n",
              "        background-color: #3B4455;\n",
              "        fill: #D2E3FC;\n",
              "      }\n",
              "\n",
              "      [theme=dark] .colab-df-generate:hover {\n",
              "        background-color: #434B5C;\n",
              "        box-shadow: 0px 1px 3px 1px rgba(0, 0, 0, 0.15);\n",
              "        filter: drop-shadow(0px 1px 2px rgba(0, 0, 0, 0.3));\n",
              "        fill: #FFFFFF;\n",
              "      }\n",
              "    </style>\n",
              "    <button class=\"colab-df-generate\" onclick=\"generateWithVariable('df')\"\n",
              "            title=\"Generate code using this dataframe.\"\n",
              "            style=\"display:none;\">\n",
              "\n",
              "  <svg xmlns=\"http://www.w3.org/2000/svg\" height=\"24px\"viewBox=\"0 0 24 24\"\n",
              "       width=\"24px\">\n",
              "    <path d=\"M7,19H8.4L18.45,9,17,7.55,7,17.6ZM5,21V16.75L18.45,3.32a2,2,0,0,1,2.83,0l1.4,1.43a1.91,1.91,0,0,1,.58,1.4,1.91,1.91,0,0,1-.58,1.4L9.25,21ZM18.45,9,17,7.55Zm-12,3A5.31,5.31,0,0,0,4.9,8.1,5.31,5.31,0,0,0,1,6.5,5.31,5.31,0,0,0,4.9,4.9,5.31,5.31,0,0,0,6.5,1,5.31,5.31,0,0,0,8.1,4.9,5.31,5.31,0,0,0,12,6.5,5.46,5.46,0,0,0,6.5,12Z\"/>\n",
              "  </svg>\n",
              "    </button>\n",
              "    <script>\n",
              "      (() => {\n",
              "      const buttonEl =\n",
              "        document.querySelector('#id_4face1f6-cd8e-4ad0-89f2-8d37ce3e167d button.colab-df-generate');\n",
              "      buttonEl.style.display =\n",
              "        google.colab.kernel.accessAllowed ? 'block' : 'none';\n",
              "\n",
              "      buttonEl.onclick = () => {\n",
              "        google.colab.notebook.generateWithVariable('df');\n",
              "      }\n",
              "      })();\n",
              "    </script>\n",
              "  </div>\n",
              "\n",
              "    </div>\n",
              "  </div>\n"
            ],
            "application/vnd.google.colaboratory.intrinsic+json": {
              "type": "dataframe",
              "variable_name": "df"
            }
          },
          "metadata": {},
          "execution_count": 9
        }
      ],
      "source": [
        "df"
      ]
    },
    {
      "cell_type": "markdown",
      "id": "398c1205",
      "metadata": {
        "id": "398c1205"
      },
      "source": [
        "Les  tweets, ainsi que leur version nettoyée, sont affichés pour vérification."
      ]
    },
    {
      "cell_type": "code",
      "execution_count": null,
      "id": "867ea25a",
      "metadata": {
        "id": "867ea25a",
        "colab": {
          "base_uri": "https://localhost:8080/"
        },
        "outputId": "d8684b9e-b331-416d-b4cf-723090d30737"
      },
      "outputs": [
        {
          "output_type": "stream",
          "name": "stdout",
          "text": [
            "Les 10 mots les plus fréquents :\n",
            "go: 137241\n",
            "get: 110125\n",
            "day: 104542\n",
            "good: 90657\n",
            "work: 85351\n",
            "like: 83014\n",
            "love: 81226\n",
            "today: 66142\n",
            "time: 64425\n",
            "got: 61288\n"
          ]
        }
      ],
      "source": [
        "from collections import defaultdict\n",
        "\n",
        "# Initialiser un dictionnaire pour stocker les occurrences de chaque mot\n",
        "word_counts = defaultdict(int)\n",
        "\n",
        "# Parcourir chaque tweet nettoyé\n",
        "for cleaned_tweet in df['cleaned_text']:\n",
        "    # Diviser le tweet nettoyé en mots individuels\n",
        "    words = cleaned_tweet.split()\n",
        "    # Mettre à jour le dictionnaire des occurrences de mots\n",
        "    for word in words:\n",
        "        word_counts[word] += 1\n",
        "\n",
        "# Trier le dictionnaire par valeur pour obtenir les mots les plus fréquents\n",
        "sorted_word_counts = sorted(word_counts.items(), key=lambda x: x[1], reverse=True)\n",
        "\n",
        "# Afficher les 10 mots les plus fréquents\n",
        "print(\"Les 10 mots les plus fréquents :\")\n",
        "for word, count in sorted_word_counts[:10]:\n",
        "    print(f\"{word}: {count}\")\n"
      ]
    },
    {
      "cell_type": "markdown",
      "id": "6a923ff1",
      "metadata": {
        "id": "6a923ff1"
      },
      "source": [
        "Ce code parcourt chaque tweet nettoyé, divise chaque tweet en mots individuels, met à jour le dictionnaire word_counts pour compter le nombre d'occurrences de chaque mot, puis trie le dictionnaire par valeur pour obtenir les mots les plus fréquents. Enfin, il affiche les 10 mots les plus fréquents avec leur nombre d'occurrences."
      ]
    },
    {
      "cell_type": "code",
      "execution_count": null,
      "id": "95317d70",
      "metadata": {
        "id": "95317d70",
        "colab": {
          "base_uri": "https://localhost:8080/",
          "height": 472
        },
        "outputId": "c958d382-ba1c-4906-9db4-af6fa12e1e4c"
      },
      "outputs": [
        {
          "output_type": "display_data",
          "data": {
            "text/plain": [
              "<Figure size 640x480 with 1 Axes>"
            ],
            "image/png": "[encoded data removed]"
          },
          "metadata": {}
        }
      ],
      "source": [
        "import matplotlib.pyplot as plt\n",
        "\n",
        "# Extraire le nombre d'occurrences de chaque mot\n",
        "word_counts_values = list(word_counts.values())\n",
        "\n",
        "# Tracer un histogramme pour visualiser la distribution\n",
        "plt.hist(word_counts_values, bins=50, log=True)\n",
        "plt.xlabel('Nombre d\\'occurrences')\n",
        "plt.ylabel('Nombre de mots')\n",
        "plt.title('Distribution du nombre d\\'occurrences de chaque mot')\n",
        "plt.show()\n"
      ]
    },
    {
      "cell_type": "markdown",
      "id": "90a729d9",
      "metadata": {
        "id": "90a729d9"
      },
      "source": [
        "un histogramme montrant la distribution du nombre d'occurrences de mots dans le corpus de tweets.\n",
        "nous avons visualisé la distribution du nombre d'occurrences de chaque mot et que nous avons une idée claire de la répartition, on vas choisir un seuil K qui vous semble approprié en fonction de vos besoins spécifiques et de la taille de votre corpus de tweets.Ce seuil K déterminera le nombre minimum d'occurrences requis pour qu'un mot soit inclus dans votre vocabulaire."
      ]
    },
    {
      "cell_type": "code",
      "execution_count": null,
      "id": "9e5f4be6",
      "metadata": {
        "id": "9e5f4be6"
      },
      "outputs": [],
      "source": [
        "# Choix empirique du seuil K en fonction de la distribution\n",
        "seuil_K = 10000  # Modifier ce seuil en fonction de la distribution observée"
      ]
    },
    {
      "cell_type": "markdown",
      "id": "807004b3",
      "metadata": {
        "id": "807004b3"
      },
      "source": [
        "En fonction de la distribution observée dans l'histogramme, un seuil K est choisi de manière empirique. Ce seuil détermine le nombre minimum d'occurrences requis pour qu'un mot soit inclus dans le vocabulaire. Le seuil initial est fixé à 2000, mais il peut être modifié en fonction des besoins spécifiques."
      ]
    },
    {
      "cell_type": "code",
      "execution_count": null,
      "id": "53aeb72a",
      "metadata": {
        "id": "53aeb72a"
      },
      "outputs": [],
      "source": [
        "# Comptage des occurrences de chaque mot dans le corpus de tweets\n",
        "occurrences = {}\n",
        "for tweet in df['cleaned_text']:\n",
        "    mots = tweet.split()\n",
        "    for mot in mots:\n",
        "        occurrences[mot] = occurrences.get(mot, 0) + 1\n"
      ]
    },
    {
      "cell_type": "code",
      "execution_count": null,
      "id": "97ba7c45",
      "metadata": {
        "id": "97ba7c45"
      },
      "outputs": [],
      "source": [
        "# Filtrage des mots avec un nombre d'occurrences supérieur ou égal à K pour construire le vocabulaire\n",
        "vocabulaire = [mot for mot, occ in occurrences.items() if occ >= seuil_K]"
      ]
    },
    {
      "cell_type": "markdown",
      "id": "c9df9cb4",
      "metadata": {
        "id": "c9df9cb4"
      },
      "source": [
        "Les mots ayant un nombre d'occurrences supérieur ou égal au seuil K sont conservés pour construire le vocabulaire. Ces mots sont stockés dans une liste appelée vocabulaire."
      ]
    },
    {
      "cell_type": "code",
      "execution_count": null,
      "id": "292ada33",
      "metadata": {
        "id": "292ada33"
      },
      "outputs": [],
      "source": [
        "# Sauvegarde du vocabulaire dans un fichier texte avec l'encodage UTF-8\n",
        "with open('vocab.txt', 'w', encoding='utf-8') as f:\n",
        "    for mot in vocabulaire:\n",
        "        f.write(mot + ' ')\n"
      ]
    },
    {
      "cell_type": "markdown",
      "id": "22e1a141",
      "metadata": {
        "id": "22e1a141"
      },
      "source": [
        "Le vocabulaire est sauvegardé dans un fichier texte nommé vocab.txt."
      ]
    },
    {
      "cell_type": "code",
      "execution_count": null,
      "id": "cfa4df40",
      "metadata": {
        "id": "cfa4df40",
        "colab": {
          "base_uri": "https://localhost:8080/"
        },
        "outputId": "aea3e527-88bc-4ad8-bed7-37820298a124"
      },
      "outputs": [
        {
          "output_type": "stream",
          "name": "stdout",
          "text": [
            "['httptwitpiccom', 'got', 'day', 'school', 'today', 'also', 'time', 'go', 'feel', 'like', 'see', 'need', 'hey', 'long', 'ye', 'rain', 'bit', 'lol', 'thank', 'watch', 'thought', 'never', 'talk', 'would', 'first', 'realli', 'though', 'wish', 'miss', 'hurt', 'alway', 'want', 'love', 'oh', 'get', 'much', 'done', 'one', 'friend', 'call', 'week', 'hope', 'tomorrow', 'hate', 'peopl', 'sleep', 'im', 'sad', 'ok', 'make', 'new', 'morn', 'work', 'night', 'sick', 'hour', 'back', 'bed', 'tell', 'ya', 'later', 'good', 'sorri', 'think', 'even', 'know', 'anoth', 'gonna', 'wanna', 'still', 'final', 'girl', 'yay', 'happi', 'mean', 'check', 'look', 'happen', 'wait', 'wow', 'tweet', 'lot', 'take', 'sure', 'dont', 'away', 'show', 'say', 'use', 'game', 'alreadi', 'glad', 'hear', 'well', 'play', 'leav', 'life', 'cool', 'nice', 'bad', 'come', 'lost', 'phone', 'soon', 'haha', 'someon', 'right', 'start', 'tonight', 'ur', 'damn', 'stop', 'pleas', 'babi', 'birthday', 'parti', 'enjoy', 'thing', 'find', 'littl', 'actual', 'follow', 'year', 'hous', 'yeah', 'cant', 'suck', 'head', 'sound', 'made', 'late', 'big', 'someth', 'weather', 'tire', 'tri', 'let', 'guess', 'finish', 'left', 'read', 'end', 'better', 'keep', 'live', 'fun', 'man', 'hot', 'pretti', 'way', 'song', 'earli', 'yet', 'bore', 'guy', 'next', 'help', 'movi', 'ever', 'amaz', 'twitter', 'us', 'home', 'old', 'eat', 'weekend', 'noth', 'lt', 'amp', 'excit', 'went', 'two', 'awesom', 'sun', 'omg', 'last', 'mayb', 'listen', 'could', 'everyon', 'best', 'readi', 'pic', 'great', 'give', 'summer', '']\n",
            "187\n"
          ]
        }
      ],
      "source": [
        "with open('vocab.txt', 'r') as file:\n",
        "    vocab = file.read().split(\" \")\n",
        "\n",
        "print(vocab)\n",
        "print(len(vocab))"
      ]
    },
    {
      "cell_type": "code",
      "execution_count": null,
      "id": "7d16eb08",
      "metadata": {
        "id": "7d16eb08"
      },
      "outputs": [],
      "source": [
        "# Mapping de chaque mot dans le tweet prétraité à son index dans le vocabulaire\n",
        "index_mots = []\n",
        "for tweet in df['cleaned_text']:\n",
        "    indices_tweet = []\n",
        "    mots_tweet = tweet.split()\n",
        "    for mot in mots_tweet:\n",
        "        if mot in vocabulaire:\n",
        "            indices_tweet.append(vocabulaire.index(mot))\n",
        "    index_mots.append(indices_tweet)"
      ]
    },
    {
      "cell_type": "markdown",
      "id": "6bdaf5de",
      "metadata": {
        "id": "6bdaf5de"
      },
      "source": [
        "Chaque mot dans chaque tweet nettoyé est remplacé par son index correspondant dans le vocabulaire. Les indices sont stockés dans une liste nommée index_mots."
      ]
    },
    {
      "cell_type": "code",
      "execution_count": null,
      "id": "755bac6f",
      "metadata": {
        "id": "755bac6f",
        "colab": {
          "base_uri": "https://localhost:8080/"
        },
        "outputId": "ecf415eb-d87f-4d23-fb03-2115c2c2f174"
      },
      "outputs": [
        {
          "output_type": "stream",
          "name": "stdout",
          "text": [
            "Index des mots pour le tweet 1 : [0, 1, 2]\n",
            "Index des mots pour le tweet 2 : [3, 4, 5]\n",
            "Index des mots pour le tweet 3 : [6, 7]\n",
            "Index des mots pour le tweet 4 : [8, 9]\n",
            "Index des mots pour le tweet 5 : [10]\n"
          ]
        }
      ],
      "source": [
        "# Affichage des index de mots pour les premiers tweets\n",
        "for i in range(5):\n",
        "    print(f\"Index des mots pour le tweet {i+1} : {index_mots[i]}\")\n"
      ]
    },
    {
      "cell_type": "markdown",
      "id": "90e5dfad",
      "metadata": {
        "id": "90e5dfad"
      },
      "source": [
        "Les index de mots pour les cents premiers tweets sont affichés à des fins de vérification."
      ]
    },
    {
      "cell_type": "code",
      "execution_count": null,
      "id": "ea3e10af",
      "metadata": {
        "id": "ea3e10af"
      },
      "outputs": [],
      "source": [
        "# Création du vecteur de vocabulaire\n",
        "with open('vocab.txt', 'r') as file:\n",
        "    vocabulaire = file.read().split(\" \")\n",
        "\n",
        "# Représentation binaire des caractéristiques\n",
        "vecteurs_binaires = []\n",
        "for tweet in df['cleaned_text']:\n",
        "    vecteur_caracteristiques = [1 if mot in tweet else 0 for mot in vocabulaire]\n",
        "    vecteurs_binaires.append(vecteur_caracteristiques)\n"
      ]
    },
    {
      "cell_type": "code",
      "execution_count": null,
      "id": "gKP8MDE_BKL4",
      "metadata": {
        "id": "gKP8MDE_BKL4",
        "colab": {
          "base_uri": "https://localhost:8080/"
        },
        "outputId": "2b4110ed-03ec-4d25-88d8-0f23f78e9ed7"
      },
      "outputs": [
        {
          "output_type": "stream",
          "name": "stdout",
          "text": [
            "Représentation binaire des caractéristiques pour les 10 premiers tweets :\n",
            "Tweet 1: [1, 1, 1, 0, 0, 0, 0, 1, 0, 0, 0, 0, 0, 0, 0, 0, 0, 0, 0, 0, 0, 0, 0, 0, 0, 0, 0, 0, 0, 0, 0, 0, 0, 0, 0, 0, 0, 0, 0, 0, 0, 0, 0, 0, 0, 0, 0, 0, 0, 0, 0, 0, 0, 0, 0, 0, 0, 0, 0, 0, 0, 0, 0, 0, 0, 0, 0, 0, 0, 0, 0, 0, 0, 0, 0, 0, 0, 0, 0, 0, 0, 0, 0, 0, 0, 0, 0, 0, 0, 0, 0, 0, 0, 0, 0, 0, 0, 0, 0, 0, 0, 0, 0, 0, 0, 0, 0, 0, 0, 0, 0, 0, 0, 0, 0, 0, 0, 0, 0, 0, 0, 0, 0, 0, 0, 0, 0, 0, 0, 0, 0, 0, 0, 0, 0, 0, 0, 0, 0, 0, 0, 0, 0, 0, 0, 0, 0, 0, 0, 0, 0, 0, 0, 0, 0, 0, 0, 0, 0, 0, 0, 0, 0, 0, 0, 0, 0, 0, 0, 0, 0, 0, 0, 0, 0, 0, 0, 0, 0, 0, 0, 0, 1, 0, 0, 0, 1]\n",
            "Tweet 2: [0, 0, 1, 1, 1, 1, 0, 0, 0, 0, 0, 0, 0, 0, 0, 0, 0, 0, 0, 0, 0, 0, 0, 0, 0, 0, 0, 0, 0, 0, 0, 0, 0, 0, 0, 0, 0, 0, 0, 0, 0, 0, 0, 0, 0, 0, 0, 0, 1, 0, 0, 0, 0, 0, 0, 0, 0, 0, 0, 0, 0, 0, 0, 0, 0, 0, 0, 0, 0, 0, 0, 0, 0, 0, 0, 0, 0, 0, 0, 0, 0, 0, 0, 0, 0, 0, 0, 0, 0, 0, 0, 0, 0, 0, 0, 0, 0, 0, 0, 0, 0, 0, 0, 0, 0, 0, 0, 0, 0, 0, 0, 0, 0, 0, 0, 0, 0, 0, 0, 0, 0, 0, 0, 0, 0, 0, 0, 0, 0, 0, 0, 0, 0, 0, 0, 0, 0, 0, 0, 0, 0, 0, 0, 0, 0, 0, 0, 0, 0, 0, 0, 0, 0, 0, 0, 0, 0, 0, 0, 0, 0, 0, 0, 0, 0, 0, 0, 1, 0, 0, 0, 0, 0, 0, 0, 0, 0, 0, 0, 0, 0, 0, 0, 0, 0, 0, 1]\n",
            "Tweet 3: [0, 0, 0, 0, 0, 0, 1, 1, 0, 0, 0, 0, 0, 0, 0, 0, 0, 0, 0, 0, 0, 0, 0, 0, 0, 0, 0, 0, 0, 0, 0, 0, 0, 0, 0, 0, 0, 0, 0, 0, 0, 0, 0, 0, 0, 0, 1, 0, 0, 0, 0, 0, 0, 0, 0, 0, 0, 0, 0, 0, 0, 0, 0, 0, 0, 0, 0, 0, 0, 0, 0, 0, 0, 0, 0, 0, 0, 0, 0, 0, 0, 0, 0, 0, 0, 0, 0, 0, 0, 0, 0, 0, 0, 0, 0, 0, 0, 0, 0, 0, 0, 0, 0, 0, 0, 0, 0, 0, 0, 0, 0, 0, 0, 0, 0, 0, 0, 0, 0, 0, 0, 0, 0, 0, 0, 0, 0, 0, 0, 0, 0, 0, 0, 0, 0, 0, 0, 0, 0, 0, 0, 0, 0, 0, 0, 0, 1, 0, 0, 0, 0, 0, 0, 0, 0, 0, 0, 0, 0, 0, 0, 0, 0, 0, 0, 0, 0, 0, 0, 0, 0, 0, 0, 0, 0, 0, 0, 0, 0, 0, 0, 0, 0, 0, 0, 0, 1]\n",
            "Tweet 4: [0, 0, 0, 0, 0, 0, 0, 0, 1, 1, 0, 0, 0, 0, 0, 0, 0, 0, 0, 0, 0, 0, 0, 0, 0, 0, 0, 0, 0, 0, 0, 0, 0, 0, 0, 0, 0, 0, 0, 0, 0, 0, 0, 0, 0, 0, 0, 0, 0, 0, 0, 0, 0, 0, 0, 0, 0, 0, 0, 0, 0, 0, 0, 0, 0, 0, 0, 0, 0, 0, 0, 0, 0, 0, 0, 0, 0, 0, 0, 0, 0, 0, 0, 0, 0, 0, 0, 0, 0, 0, 0, 0, 0, 0, 0, 0, 0, 0, 0, 0, 0, 0, 0, 0, 0, 0, 0, 0, 0, 0, 0, 0, 0, 0, 0, 0, 0, 0, 0, 0, 0, 0, 0, 0, 0, 0, 0, 0, 0, 0, 0, 0, 0, 0, 0, 0, 0, 0, 0, 0, 0, 0, 0, 0, 0, 0, 0, 0, 0, 0, 0, 0, 0, 0, 0, 0, 0, 0, 0, 0, 0, 0, 0, 0, 0, 0, 0, 0, 0, 0, 0, 0, 0, 0, 0, 0, 0, 0, 0, 0, 0, 0, 0, 0, 0, 0, 1]\n",
            "Tweet 5: [0, 0, 0, 0, 0, 0, 0, 0, 0, 0, 1, 0, 0, 0, 0, 0, 0, 0, 0, 0, 0, 0, 0, 0, 0, 0, 0, 0, 0, 0, 0, 0, 0, 0, 0, 0, 0, 0, 0, 0, 0, 0, 0, 0, 0, 0, 0, 0, 0, 0, 0, 0, 0, 0, 0, 0, 0, 0, 0, 0, 0, 0, 0, 0, 0, 0, 0, 0, 0, 0, 0, 0, 0, 0, 0, 0, 0, 0, 0, 0, 0, 0, 0, 0, 0, 0, 0, 0, 0, 0, 0, 0, 0, 0, 0, 0, 0, 0, 0, 0, 0, 0, 0, 0, 0, 0, 0, 0, 0, 0, 0, 0, 0, 0, 0, 0, 0, 0, 0, 0, 0, 0, 0, 0, 0, 0, 0, 0, 0, 0, 0, 0, 0, 0, 0, 0, 0, 0, 0, 0, 0, 0, 0, 0, 0, 0, 0, 0, 0, 0, 0, 0, 0, 0, 0, 0, 0, 0, 0, 0, 0, 0, 0, 0, 0, 0, 0, 0, 0, 0, 0, 0, 0, 0, 0, 0, 0, 0, 0, 0, 0, 0, 0, 0, 0, 0, 1]\n",
            "Tweet 6: [0, 0, 0, 0, 0, 0, 0, 0, 0, 0, 0, 0, 0, 0, 0, 0, 0, 0, 0, 0, 0, 0, 0, 0, 0, 0, 0, 0, 0, 0, 0, 0, 0, 0, 0, 0, 0, 0, 0, 0, 0, 0, 0, 0, 0, 0, 0, 0, 0, 0, 0, 0, 0, 0, 0, 0, 0, 0, 0, 0, 0, 0, 0, 0, 0, 0, 0, 0, 0, 0, 0, 0, 0, 0, 0, 0, 0, 0, 0, 0, 0, 0, 0, 0, 0, 0, 0, 0, 0, 0, 0, 0, 0, 0, 0, 0, 0, 0, 0, 0, 0, 0, 0, 0, 0, 0, 0, 0, 0, 0, 0, 0, 0, 0, 0, 0, 0, 0, 0, 0, 0, 0, 0, 0, 0, 0, 0, 0, 0, 0, 0, 0, 0, 0, 0, 0, 0, 0, 0, 0, 0, 0, 0, 0, 0, 0, 0, 0, 0, 0, 0, 0, 0, 0, 0, 0, 0, 0, 0, 0, 0, 0, 0, 0, 0, 0, 0, 0, 0, 0, 0, 0, 0, 0, 0, 0, 0, 0, 0, 0, 0, 0, 0, 0, 0, 0, 1]\n",
            "Tweet 7: [0, 0, 0, 0, 0, 0, 0, 0, 0, 0, 0, 1, 0, 0, 0, 0, 0, 0, 0, 0, 0, 0, 0, 0, 0, 0, 0, 0, 0, 0, 0, 0, 0, 0, 0, 0, 0, 0, 0, 0, 0, 0, 0, 0, 0, 0, 0, 0, 0, 0, 0, 0, 0, 0, 0, 0, 0, 0, 0, 0, 0, 0, 0, 0, 0, 0, 0, 0, 0, 0, 0, 0, 0, 0, 0, 0, 0, 0, 0, 0, 0, 0, 0, 0, 0, 0, 0, 0, 0, 0, 0, 0, 0, 0, 0, 0, 0, 0, 0, 0, 0, 0, 0, 0, 0, 0, 0, 0, 0, 0, 0, 0, 0, 0, 0, 0, 0, 0, 0, 0, 0, 0, 0, 0, 0, 0, 0, 0, 0, 0, 0, 0, 0, 0, 0, 0, 0, 0, 0, 0, 0, 0, 0, 0, 0, 0, 0, 0, 0, 0, 0, 0, 0, 0, 0, 0, 0, 0, 0, 0, 0, 0, 0, 0, 0, 0, 0, 0, 0, 0, 0, 0, 0, 0, 0, 0, 0, 0, 0, 0, 0, 0, 0, 0, 0, 0, 1]\n",
            "Tweet 8: [0, 0, 0, 0, 0, 0, 1, 0, 0, 0, 1, 0, 1, 1, 1, 1, 1, 1, 1, 0, 0, 0, 0, 0, 0, 0, 0, 0, 0, 0, 0, 0, 0, 0, 0, 0, 0, 0, 0, 0, 0, 0, 0, 0, 0, 0, 1, 0, 0, 0, 0, 0, 0, 0, 0, 0, 0, 0, 0, 0, 0, 0, 0, 0, 0, 0, 0, 0, 0, 0, 0, 0, 0, 0, 0, 0, 0, 0, 0, 0, 0, 0, 0, 0, 0, 0, 0, 0, 0, 0, 0, 0, 0, 0, 0, 0, 0, 0, 0, 0, 0, 0, 0, 0, 0, 0, 0, 0, 0, 0, 0, 0, 0, 0, 0, 0, 0, 0, 0, 0, 0, 0, 0, 0, 0, 0, 0, 0, 0, 0, 0, 0, 0, 0, 0, 1, 0, 0, 0, 0, 0, 0, 0, 0, 0, 0, 0, 0, 0, 0, 0, 0, 0, 0, 0, 0, 0, 0, 0, 0, 0, 0, 0, 0, 0, 0, 0, 1, 0, 0, 0, 0, 0, 0, 0, 0, 0, 0, 0, 0, 0, 0, 0, 0, 0, 0, 1]\n",
            "Tweet 9: [0, 0, 0, 0, 0, 0, 0, 0, 0, 0, 0, 0, 0, 0, 0, 0, 0, 0, 0, 0, 0, 0, 0, 0, 0, 0, 0, 0, 0, 0, 0, 0, 0, 0, 0, 0, 0, 0, 0, 0, 0, 0, 0, 0, 0, 0, 0, 0, 0, 0, 0, 0, 0, 0, 0, 0, 0, 0, 0, 0, 0, 0, 0, 0, 0, 0, 0, 0, 0, 0, 0, 0, 0, 0, 0, 0, 0, 0, 0, 0, 0, 0, 0, 0, 0, 0, 0, 0, 0, 0, 0, 0, 0, 0, 0, 0, 0, 0, 0, 0, 0, 0, 0, 0, 0, 0, 0, 0, 0, 0, 0, 0, 0, 0, 0, 0, 0, 0, 0, 0, 0, 0, 0, 0, 0, 0, 0, 0, 0, 0, 0, 0, 0, 0, 0, 0, 0, 0, 0, 0, 0, 0, 0, 0, 0, 0, 0, 0, 0, 0, 0, 0, 0, 0, 0, 0, 0, 0, 0, 0, 0, 0, 0, 0, 0, 0, 0, 0, 0, 0, 0, 0, 0, 0, 0, 0, 0, 0, 0, 0, 0, 0, 0, 0, 0, 0, 1]\n",
            "Tweet 10: [0, 0, 0, 0, 0, 0, 0, 0, 0, 0, 0, 0, 0, 0, 0, 0, 0, 0, 0, 0, 0, 0, 0, 0, 0, 0, 0, 0, 0, 0, 0, 0, 0, 0, 0, 0, 0, 0, 0, 0, 0, 0, 0, 0, 0, 0, 0, 0, 0, 0, 0, 0, 0, 0, 0, 0, 0, 0, 0, 0, 0, 0, 0, 0, 0, 0, 0, 0, 0, 0, 0, 0, 0, 0, 0, 0, 0, 0, 0, 0, 0, 0, 0, 0, 0, 0, 0, 0, 0, 0, 0, 0, 0, 0, 0, 0, 0, 0, 0, 0, 0, 0, 0, 0, 0, 0, 0, 0, 0, 0, 0, 0, 0, 0, 0, 0, 0, 0, 0, 0, 0, 0, 0, 0, 0, 0, 0, 0, 0, 0, 0, 0, 0, 0, 0, 0, 0, 0, 0, 0, 0, 0, 0, 0, 0, 0, 0, 0, 0, 0, 0, 0, 0, 0, 0, 0, 0, 0, 0, 0, 1, 0, 0, 0, 0, 0, 0, 0, 0, 0, 0, 0, 0, 0, 0, 0, 0, 0, 0, 0, 0, 0, 0, 0, 0, 0, 1]\n"
          ]
        }
      ],
      "source": [
        "# Affichage de la représentation binaire des caractéristiques pour les 10 premiers tweets\n",
        "print(\"Représentation binaire des caractéristiques pour les 10 premiers tweets :\")\n",
        "for i, vecteur in enumerate(vecteurs_binaires[:10]):\n",
        "    print(f\"Tweet {i+1}: {vecteur}\")\n"
      ]
    },
    {
      "cell_type": "markdown",
      "id": "7c022ba1",
      "metadata": {
        "id": "7c022ba1"
      },
      "source": [
        "# Étape 2 : Classification"
      ]
    },
    {
      "cell_type": "markdown",
      "id": "d4bf7c8a",
      "metadata": {
        "id": "d4bf7c8a"
      },
      "source": [
        "Une fois les vecteurs caractéristiques obtenus ; il est possible d’utiliser tous les classifieurs appris durant ce semestre :\n",
        "\n",
        "•\tUne comparaison des classifieurs devra être faite et les résultats discutés.\n",
        "\n",
        "•\tUne modularité du code est exigée.\n",
        "\n",
        "•\tL’utilisation des implémentations existantes (librairies) d’algorithmes de classification est permise, toutefois il est important de justifier le choix des libraires ainsi que des paramètres.\n",
        "\n",
        "•\tL’utilisation d’algorithmes d’apprentissage profond pour cette tâche est grandement appréciée et une comparaison entre les approches classiques et celles de l’apprentissage profond est encouragée"
      ]
    },
    {
      "cell_type": "code",
      "execution_count": null,
      "id": "ab75edbb",
      "metadata": {
        "id": "ab75edbb",
        "colab": {
          "base_uri": "https://localhost:8080/"
        },
        "outputId": "2765f18a-72f5-472e-a539-3dab827e478e"
      },
      "outputs": [
        {
          "output_type": "stream",
          "name": "stdout",
          "text": [
            "Les vecteurs binaires ont été stockés dans le fichier vecteurs_binaires.txt\n"
          ]
        }
      ],
      "source": [
        "# Nom du fichier où vous voulez stocker les vecteurs binaires au format texte\n",
        "nom_fichier_txt = 'vecteurs_binaires.txt'\n",
        "\n",
        "# Ouvrir le fichier en mode écriture\n",
        "with open(nom_fichier_txt, 'w') as file:\n",
        "    # Parcourir chaque vecteur binaire et l'écrire dans le fichier\n",
        "    for vecteur in vecteurs_binaires:\n",
        "        # Convertir le vecteur binaire en une chaîne de caractères séparée par des espaces\n",
        "        ligne = ' '.join(map(str, vecteur))\n",
        "        # Écrire la ligne dans le fichier\n",
        "        file.write(ligne + '\\n')\n",
        "\n",
        "print(\"Les vecteurs binaires ont été stockés dans le fichier\", nom_fichier_txt)\n"
      ]
    },
    {
      "cell_type": "code",
      "execution_count": null,
      "id": "008dbcc9",
      "metadata": {
        "id": "008dbcc9",
        "colab": {
          "base_uri": "https://localhost:8080/"
        },
        "outputId": "3d525211-41d9-47d1-9bce-947f6f9170bb"
      },
      "outputs": [
        {
          "output_type": "stream",
          "name": "stderr",
          "text": [
            "IOPub data rate exceeded.\n",
            "The notebook server will temporarily stop sending output\n",
            "to the client in order to avoid crashing it.\n",
            "To change this limit, set the config variable\n",
            "`--NotebookApp.iopub_data_rate_limit`.\n",
            "\n",
            "Current values:\n",
            "NotebookApp.iopub_data_rate_limit=1000000.0 (bytes/sec)\n",
            "NotebookApp.rate_limit_window=3.0 (secs)\n",
            "\n"
          ]
        }
      ],
      "source": [
        "# Nom du fichier à charger\n",
        "nom_fichier_txt = 'vecteurs_binaires.txt'\n",
        "\n",
        "# Ouvrir le fichier en mode lecture\n",
        "with open(nom_fichier_txt, 'r') as file:\n",
        "    # Lire tout le contenu du fichier\n",
        "    contenu_fichier = file.read()\n",
        "\n",
        "# Afficher le contenu du fichier\n",
        "print(\"Contenu du fichier chargé :\\n\", contenu_fichier)\n"
      ]
    },
    {
      "cell_type": "code",
      "execution_count": null,
      "id": "96edcf7e",
      "metadata": {
        "id": "96edcf7e",
        "colab": {
          "base_uri": "https://localhost:8080/"
        },
        "outputId": "bcf75f95-ed1e-4457-f50b-5a2dc8f399dd"
      },
      "outputs": [
        {
          "output_type": "stream",
          "name": "stdout",
          "text": [
            "X shape:  (1600000, 187)  Y shape:  (1600000,)\n"
          ]
        }
      ],
      "source": [
        "# Import des bibliothèques nécessaires\n",
        "from sklearn.linear_model import LogisticRegression  # Import du modèle de régression logistique\n",
        "from sklearn.model_selection import train_test_split  # Import de la fonction pour diviser les données en ensembles d'entraînement et de test\n",
        "from sklearn.metrics import accuracy_score, recall_score, f1_score  # Import des métriques d'évaluation\n",
        "\n",
        "# Conversion des vecteurs binaires en un tableau numpy en spécifiant le type de données uint8\n",
        "X = np.array(vecteurs_binaires, dtype=np.uint8)\n",
        "\n",
        "# Conversion de la cible en un tableau numpy en spécifiant le type de données uint8\n",
        "Y = np.array(df['target'], dtype=np.uint8)\n",
        "\n",
        "# Reshape de Y pour qu'il ait la même longueur que X\n",
        "Y = Y.reshape(len(X),)\n",
        "\n",
        "# Affichage des dimensions de X et Y\n",
        "print(\"X shape: \", X.shape, \" Y shape: \", Y.shape)\n",
        "\n",
        "# Division des données en ensembles d'entraînement et de test avec une taille de test de 33% et une seed pour la reproductibilité\n",
        "X_train, X_test, y_train, y_test = train_test_split(X, Y, test_size=0.33, random_state=42)\n"
      ]
    },
    {
      "cell_type": "markdown",
      "source": [
        "ce code convertit les vecteurs binaires représentant les caractéristiques des tweets et les cibles en tableaux numpy, puis divise les données en ensembles d'entraînement et de test en utilisant la fonction train_test_split pour évaluer la performance du modèle.\n"
      ],
      "metadata": {
        "id": "sbMlOMl_1D8_"
      },
      "id": "sbMlOMl_1D8_"
    },
    {
      "cell_type": "markdown",
      "source": [
        "# **Random forest**"
      ],
      "metadata": {
        "id": "LAb4sKWy--jX"
      },
      "id": "LAb4sKWy--jX"
    },
    {
      "cell_type": "code",
      "execution_count": null,
      "id": "fd610db1",
      "metadata": {
        "id": "fd610db1",
        "colab": {
          "base_uri": "https://localhost:8080/"
        },
        "outputId": "bf697a1a-c2b4-4e94-c87b-89e79f63dbfb"
      },
      "outputs": [
        {
          "output_type": "stream",
          "name": "stdout",
          "text": [
            "Accuracy: 0.682407196969697\n",
            "Recall: 0.6823220472041289\n",
            "F1-score: 0.6820207437154029\n"
          ]
        }
      ],
      "source": [
        "from sklearn.ensemble import RandomForestClassifier  # Import de la classe RandomForestClassifier\n",
        "from sklearn.metrics import accuracy_score, f1_score, recall_score\n",
        "# Création d'une instance de RandomForestClassifier avec les paramètres par défaut\n",
        "random_forest_model = RandomForestClassifier()\n",
        "\n",
        "# Entraînement du modèle sur les données d'entraînement\n",
        "random_forest_model.fit(X_train, y_train)\n",
        "\n",
        "# Prédiction sur l'ensemble de test\n",
        "y_pred = random_forest_model.predict(X_test)\n",
        "\n",
        "# Évaluation de la précision\n",
        "accuracy = accuracy_score(y_test, y_pred)\n",
        "print(\"Accuracy:\", accuracy)\n",
        "\n",
        "# Calcul du rappel (recall)\n",
        "recall = recall_score(y_test, y_pred, average='macro')\n",
        "print(\"Recall:\", recall)\n",
        "\n",
        "# Calcul du F1-score\n",
        "f1score = f1_score(y_test, y_pred, average='macro')\n",
        "print(\"F1-score:\", f1score)\n"
      ]
    },
    {
      "cell_type": "markdown",
      "source": [
        "# **Regression** **logistique**"
      ],
      "metadata": {
        "id": "2C_BaXyi_kgg"
      },
      "id": "2C_BaXyi_kgg"
    },
    {
      "cell_type": "code",
      "execution_count": null,
      "id": "7cefa061",
      "metadata": {
        "id": "7cefa061",
        "colab": {
          "base_uri": "https://localhost:8080/"
        },
        "outputId": "045ca0a8-854f-4ece-eefb-7ef9782c633a"
      },
      "outputs": [
        {
          "output_type": "stream",
          "name": "stdout",
          "text": [
            "Accuracy: 0.6902367424242424\n",
            "Recall: 0.6901102296202131\n",
            "F1-score: 0.689430089617918\n"
          ]
        }
      ],
      "source": [
        "from sklearn.linear_model import LogisticRegression\n",
        "from sklearn.model_selection import train_test_split\n",
        "from sklearn.metrics import accuracy_score, recall_score, f1_score\n",
        "\n",
        "\n",
        "# Initialiser et entraîner le modèle de régression logistique\n",
        "logistic_regression_model = LogisticRegression(max_iter=1000)\n",
        "logistic_regression_model.fit(X_train, y_train)\n",
        "\n",
        "# Prédire les classes pour les données de test\n",
        "y_pred = logistic_regression_model.predict(X_test)\n",
        "\n",
        "# Calculer l'exactitude du modèle\n",
        "accuracy = accuracy_score(y_test, y_pred)\n",
        "print(\"Accuracy:\", accuracy)\n",
        "\n",
        "# Calcul du rappel (recall)\n",
        "recall = recall_score(y_test, y_pred, average='macro')\n",
        "print(\"Recall:\", recall)\n",
        "\n",
        "# Calcul du F1-score\n",
        "f1score = f1_score(y_test, y_pred, average='macro')\n",
        "print(\"F1-score:\", f1score)\n"
      ]
    },
    {
      "cell_type": "markdown",
      "source": [
        "# **K-NN**"
      ],
      "metadata": {
        "id": "2svvmgbCzk-w"
      },
      "id": "2svvmgbCzk-w"
    },
    {
      "cell_type": "code",
      "source": [
        "from sklearn.neighbors import KNeighborsClassifier  # Import du classifieur KNN\n",
        "from sklearn.metrics import accuracy_score, recall_score, f1_score  # Import des métriques d'évaluation\n",
        "\n",
        "# Initialisation du classifieur KNN avec un nombre de voisins (k) choisi\n",
        "knn_model = KNeighborsClassifier(n_neighbors=5)\n",
        "\n",
        "# Entraînement du modèle sur les données d'entraînement\n",
        "knn_model.fit(X_train, y_train)\n",
        "\n",
        "# Prédiction sur l'ensemble de test\n",
        "y_pred_knn = knn_model.predict(X_test)\n",
        "\n",
        "# Évaluation du modèle\n",
        "accuracy_knn = accuracy_score(y_test, y_pred_knn)\n",
        "recall_knn = recall_score(y_test, y_pred_knn, average='macro')\n",
        "f1score_knn = f1_score(y_test, y_pred_knn, average='macro')\n",
        "\n",
        "# Affichage des résultats\n",
        "print(\"KNN Accuracy:\", accuracy_knn)\n",
        "print(\"KNN Recall:\", recall_knn)\n",
        "print(\"KNN F1-score:\", f1score_knn)\n"
      ],
      "metadata": {
        "id": "JSXibZgzmWZG",
        "colab": {
          "base_uri": "https://localhost:8080/",
          "height": 356
        },
        "outputId": "7e49cdea-0ca5-4bf5-907f-c11e46359a21"
      },
      "id": "JSXibZgzmWZG",
      "execution_count": null,
      "outputs": [
        {
          "output_type": "error",
          "ename": "KeyboardInterrupt",
          "evalue": "",
          "traceback": [
            "\u001b[0;31m---------------------------------------------------------------------------\u001b[0m",
            "\u001b[0;31mKeyboardInterrupt\u001b[0m                         Traceback (most recent call last)",
            "\u001b[0;32m<ipython-input-24-0e19cbe40b7c>\u001b[0m in \u001b[0;36m<cell line: 11>\u001b[0;34m()\u001b[0m\n\u001b[1;32m      9\u001b[0m \u001b[0;34m\u001b[0m\u001b[0m\n\u001b[1;32m     10\u001b[0m \u001b[0;31m# Prédiction sur l'ensemble de test\u001b[0m\u001b[0;34m\u001b[0m\u001b[0;34m\u001b[0m\u001b[0m\n\u001b[0;32m---> 11\u001b[0;31m \u001b[0my_pred_knn\u001b[0m \u001b[0;34m=\u001b[0m \u001b[0mknn_model\u001b[0m\u001b[0;34m.\u001b[0m\u001b[0mpredict\u001b[0m\u001b[0;34m(\u001b[0m\u001b[0mX_test\u001b[0m\u001b[0;34m)\u001b[0m\u001b[0;34m\u001b[0m\u001b[0;34m\u001b[0m\u001b[0m\n\u001b[0m\u001b[1;32m     12\u001b[0m \u001b[0;34m\u001b[0m\u001b[0m\n\u001b[1;32m     13\u001b[0m \u001b[0;31m# Évaluation du modèle\u001b[0m\u001b[0;34m\u001b[0m\u001b[0;34m\u001b[0m\u001b[0m\n",
            "\u001b[0;32m/usr/local/lib/python3.10/dist-packages/sklearn/neighbors/_classification.py\u001b[0m in \u001b[0;36mpredict\u001b[0;34m(self, X)\u001b[0m\n\u001b[1;32m    232\u001b[0m             \u001b[0;31m# In that case, we do not need the distances to perform\u001b[0m\u001b[0;34m\u001b[0m\u001b[0;34m\u001b[0m\u001b[0m\n\u001b[1;32m    233\u001b[0m             \u001b[0;31m# the weighting so we do not compute them.\u001b[0m\u001b[0;34m\u001b[0m\u001b[0;34m\u001b[0m\u001b[0m\n\u001b[0;32m--> 234\u001b[0;31m             \u001b[0mneigh_ind\u001b[0m \u001b[0;34m=\u001b[0m \u001b[0mself\u001b[0m\u001b[0;34m.\u001b[0m\u001b[0mkneighbors\u001b[0m\u001b[0;34m(\u001b[0m\u001b[0mX\u001b[0m\u001b[0;34m,\u001b[0m \u001b[0mreturn_distance\u001b[0m\u001b[0;34m=\u001b[0m\u001b[0;32mFalse\u001b[0m\u001b[0;34m)\u001b[0m\u001b[0;34m\u001b[0m\u001b[0;34m\u001b[0m\u001b[0m\n\u001b[0m\u001b[1;32m    235\u001b[0m             \u001b[0mneigh_dist\u001b[0m \u001b[0;34m=\u001b[0m \u001b[0;32mNone\u001b[0m\u001b[0;34m\u001b[0m\u001b[0;34m\u001b[0m\u001b[0m\n\u001b[1;32m    236\u001b[0m         \u001b[0;32melse\u001b[0m\u001b[0;34m:\u001b[0m\u001b[0;34m\u001b[0m\u001b[0;34m\u001b[0m\u001b[0m\n",
            "\u001b[0;32m/usr/local/lib/python3.10/dist-packages/sklearn/neighbors/_base.py\u001b[0m in \u001b[0;36mkneighbors\u001b[0;34m(self, X, n_neighbors, return_distance)\u001b[0m\n\u001b[1;32m    859\u001b[0m                 \u001b[0mkwds\u001b[0m \u001b[0;34m=\u001b[0m \u001b[0mself\u001b[0m\u001b[0;34m.\u001b[0m\u001b[0meffective_metric_params_\u001b[0m\u001b[0;34m\u001b[0m\u001b[0;34m\u001b[0m\u001b[0m\n\u001b[1;32m    860\u001b[0m \u001b[0;34m\u001b[0m\u001b[0m\n\u001b[0;32m--> 861\u001b[0;31m             chunked_results = list(\n\u001b[0m\u001b[1;32m    862\u001b[0m                 pairwise_distances_chunked(\n\u001b[1;32m    863\u001b[0m                     \u001b[0mX\u001b[0m\u001b[0;34m,\u001b[0m\u001b[0;34m\u001b[0m\u001b[0;34m\u001b[0m\u001b[0m\n",
            "\u001b[0;32m/usr/local/lib/python3.10/dist-packages/sklearn/metrics/pairwise.py\u001b[0m in \u001b[0;36mpairwise_distances_chunked\u001b[0;34m(X, Y, reduce_func, metric, n_jobs, working_memory, **kwds)\u001b[0m\n\u001b[1;32m   1874\u001b[0m         \u001b[0;32mif\u001b[0m \u001b[0mreduce_func\u001b[0m \u001b[0;32mis\u001b[0m \u001b[0;32mnot\u001b[0m \u001b[0;32mNone\u001b[0m\u001b[0;34m:\u001b[0m\u001b[0;34m\u001b[0m\u001b[0;34m\u001b[0m\u001b[0m\n\u001b[1;32m   1875\u001b[0m             \u001b[0mchunk_size\u001b[0m \u001b[0;34m=\u001b[0m \u001b[0mD_chunk\u001b[0m\u001b[0;34m.\u001b[0m\u001b[0mshape\u001b[0m\u001b[0;34m[\u001b[0m\u001b[0;36m0\u001b[0m\u001b[0;34m]\u001b[0m\u001b[0;34m\u001b[0m\u001b[0;34m\u001b[0m\u001b[0m\n\u001b[0;32m-> 1876\u001b[0;31m             \u001b[0mD_chunk\u001b[0m \u001b[0;34m=\u001b[0m \u001b[0mreduce_func\u001b[0m\u001b[0;34m(\u001b[0m\u001b[0mD_chunk\u001b[0m\u001b[0;34m,\u001b[0m \u001b[0msl\u001b[0m\u001b[0;34m.\u001b[0m\u001b[0mstart\u001b[0m\u001b[0;34m)\u001b[0m\u001b[0;34m\u001b[0m\u001b[0;34m\u001b[0m\u001b[0m\n\u001b[0m\u001b[1;32m   1877\u001b[0m             \u001b[0m_check_chunk_size\u001b[0m\u001b[0;34m(\u001b[0m\u001b[0mD_chunk\u001b[0m\u001b[0;34m,\u001b[0m \u001b[0mchunk_size\u001b[0m\u001b[0;34m)\u001b[0m\u001b[0;34m\u001b[0m\u001b[0;34m\u001b[0m\u001b[0m\n\u001b[1;32m   1878\u001b[0m         \u001b[0;32myield\u001b[0m \u001b[0mD_chunk\u001b[0m\u001b[0;34m\u001b[0m\u001b[0;34m\u001b[0m\u001b[0m\n",
            "\u001b[0;32m/usr/local/lib/python3.10/dist-packages/sklearn/neighbors/_base.py\u001b[0m in \u001b[0;36m_kneighbors_reduce_func\u001b[0;34m(self, dist, start, n_neighbors, return_distance)\u001b[0m\n\u001b[1;32m    717\u001b[0m         \"\"\"\n\u001b[1;32m    718\u001b[0m         \u001b[0msample_range\u001b[0m \u001b[0;34m=\u001b[0m \u001b[0mnp\u001b[0m\u001b[0;34m.\u001b[0m\u001b[0marange\u001b[0m\u001b[0;34m(\u001b[0m\u001b[0mdist\u001b[0m\u001b[0;34m.\u001b[0m\u001b[0mshape\u001b[0m\u001b[0;34m[\u001b[0m\u001b[0;36m0\u001b[0m\u001b[0;34m]\u001b[0m\u001b[0;34m)\u001b[0m\u001b[0;34m[\u001b[0m\u001b[0;34m:\u001b[0m\u001b[0;34m,\u001b[0m \u001b[0;32mNone\u001b[0m\u001b[0;34m]\u001b[0m\u001b[0;34m\u001b[0m\u001b[0;34m\u001b[0m\u001b[0m\n\u001b[0;32m--> 719\u001b[0;31m         \u001b[0mneigh_ind\u001b[0m \u001b[0;34m=\u001b[0m \u001b[0mnp\u001b[0m\u001b[0;34m.\u001b[0m\u001b[0margpartition\u001b[0m\u001b[0;34m(\u001b[0m\u001b[0mdist\u001b[0m\u001b[0;34m,\u001b[0m \u001b[0mn_neighbors\u001b[0m \u001b[0;34m-\u001b[0m \u001b[0;36m1\u001b[0m\u001b[0;34m,\u001b[0m \u001b[0maxis\u001b[0m\u001b[0;34m=\u001b[0m\u001b[0;36m1\u001b[0m\u001b[0;34m)\u001b[0m\u001b[0;34m\u001b[0m\u001b[0;34m\u001b[0m\u001b[0m\n\u001b[0m\u001b[1;32m    720\u001b[0m         \u001b[0mneigh_ind\u001b[0m \u001b[0;34m=\u001b[0m \u001b[0mneigh_ind\u001b[0m\u001b[0;34m[\u001b[0m\u001b[0;34m:\u001b[0m\u001b[0;34m,\u001b[0m \u001b[0;34m:\u001b[0m\u001b[0mn_neighbors\u001b[0m\u001b[0;34m]\u001b[0m\u001b[0;34m\u001b[0m\u001b[0;34m\u001b[0m\u001b[0m\n\u001b[1;32m    721\u001b[0m         \u001b[0;31m# argpartition doesn't guarantee sorted order, so we sort again\u001b[0m\u001b[0;34m\u001b[0m\u001b[0;34m\u001b[0m\u001b[0m\n",
            "\u001b[0;32m/usr/local/lib/python3.10/dist-packages/numpy/core/fromnumeric.py\u001b[0m in \u001b[0;36margpartition\u001b[0;34m(a, kth, axis, kind, order)\u001b[0m\n\u001b[1;32m    856\u001b[0m \u001b[0;34m\u001b[0m\u001b[0m\n\u001b[1;32m    857\u001b[0m     \"\"\"\n\u001b[0;32m--> 858\u001b[0;31m     \u001b[0;32mreturn\u001b[0m \u001b[0m_wrapfunc\u001b[0m\u001b[0;34m(\u001b[0m\u001b[0ma\u001b[0m\u001b[0;34m,\u001b[0m \u001b[0;34m'argpartition'\u001b[0m\u001b[0;34m,\u001b[0m \u001b[0mkth\u001b[0m\u001b[0;34m,\u001b[0m \u001b[0maxis\u001b[0m\u001b[0;34m=\u001b[0m\u001b[0maxis\u001b[0m\u001b[0;34m,\u001b[0m \u001b[0mkind\u001b[0m\u001b[0;34m=\u001b[0m\u001b[0mkind\u001b[0m\u001b[0;34m,\u001b[0m \u001b[0morder\u001b[0m\u001b[0;34m=\u001b[0m\u001b[0morder\u001b[0m\u001b[0;34m)\u001b[0m\u001b[0;34m\u001b[0m\u001b[0;34m\u001b[0m\u001b[0m\n\u001b[0m\u001b[1;32m    859\u001b[0m \u001b[0;34m\u001b[0m\u001b[0m\n\u001b[1;32m    860\u001b[0m \u001b[0;34m\u001b[0m\u001b[0m\n",
            "\u001b[0;32m/usr/local/lib/python3.10/dist-packages/numpy/core/fromnumeric.py\u001b[0m in \u001b[0;36m_wrapfunc\u001b[0;34m(obj, method, *args, **kwds)\u001b[0m\n\u001b[1;32m     57\u001b[0m \u001b[0;34m\u001b[0m\u001b[0m\n\u001b[1;32m     58\u001b[0m     \u001b[0;32mtry\u001b[0m\u001b[0;34m:\u001b[0m\u001b[0;34m\u001b[0m\u001b[0;34m\u001b[0m\u001b[0m\n\u001b[0;32m---> 59\u001b[0;31m         \u001b[0;32mreturn\u001b[0m \u001b[0mbound\u001b[0m\u001b[0;34m(\u001b[0m\u001b[0;34m*\u001b[0m\u001b[0margs\u001b[0m\u001b[0;34m,\u001b[0m \u001b[0;34m**\u001b[0m\u001b[0mkwds\u001b[0m\u001b[0;34m)\u001b[0m\u001b[0;34m\u001b[0m\u001b[0;34m\u001b[0m\u001b[0m\n\u001b[0m\u001b[1;32m     60\u001b[0m     \u001b[0;32mexcept\u001b[0m \u001b[0mTypeError\u001b[0m\u001b[0;34m:\u001b[0m\u001b[0;34m\u001b[0m\u001b[0;34m\u001b[0m\u001b[0m\n\u001b[1;32m     61\u001b[0m         \u001b[0;31m# A TypeError occurs if the object does have such a method in its\u001b[0m\u001b[0;34m\u001b[0m\u001b[0;34m\u001b[0m\u001b[0m\n",
            "\u001b[0;31mKeyboardInterrupt\u001b[0m: "
          ]
        }
      ]
    },
    {
      "cell_type": "markdown",
      "source": [
        "# **SVM**"
      ],
      "metadata": {
        "id": "1-xvkTPE2Emc"
      },
      "id": "1-xvkTPE2Emc"
    },
    {
      "cell_type": "code",
      "execution_count": null,
      "id": "ec4d1296",
      "metadata": {
        "id": "ec4d1296"
      },
      "outputs": [],
      "source": [
        "from sklearn.svm import SVC  # Import de la classe SVC pour le SVM\n",
        "from sklearn.metrics import accuracy_score, confusion_matrix, recall_score, f1_score\n",
        "\n",
        "clf = SVC(kernel='linear')  # Linear kernel\n",
        "clf.fit(X_train, y_train)\n",
        "# Make predictions on the test data\n",
        "y_pred_svm = clf.predict(X_test)\n",
        "\n",
        "# Calculate accuracy score\n",
        "accuracy = accuracy_score(y_test, y_pred_svm)\n",
        "print(\"Accuracy:\", accuracy)\n",
        "\n",
        "print(\"\\n\"+classification_report(y_test, y_pred_svm))\n"
      ]
    },
    {
      "cell_type": "markdown",
      "source": [
        "# **Arbre de decision**"
      ],
      "metadata": {
        "id": "7vOjYyhX2Svl"
      },
      "id": "7vOjYyhX2Svl"
    },
    {
      "cell_type": "code",
      "execution_count": null,
      "id": "ea956b4e",
      "metadata": {
        "id": "ea956b4e",
        "colab": {
          "base_uri": "https://localhost:8080/"
        },
        "outputId": "f6ec1b83-595b-4a95-d108-e9536a114aa2"
      },
      "outputs": [
        {
          "output_type": "stream",
          "name": "stdout",
          "text": [
            "Accuracy: 0.6440151515151515\n",
            "Recall: 0.6439786009173862\n",
            "F1-score: 0.6439255008039614\n"
          ]
        }
      ],
      "source": [
        "from sklearn.tree import DecisionTreeClassifier  # Import de la classe DecisionTreeClassifier\n",
        "from sklearn.model_selection import train_test_split\n",
        "from sklearn.metrics import accuracy_score , recall_score, f1_score\n",
        "\n",
        "# Création d'une instance de DecisionTreeClassifier avec les paramètres par défaut\n",
        "decision_tree_model = DecisionTreeClassifier()\n",
        "\n",
        "# Entraînement du modèle sur les données d'entraînement\n",
        "decision_tree_model.fit(X_train, y_train)\n",
        "\n",
        "# Prédiction sur l'ensemble de test\n",
        "y_pred = decision_tree_model.predict(X_test)\n",
        "\n",
        "# Évaluation de la précision\n",
        "accuracy = accuracy_score(y_test, y_pred)\n",
        "print(\"Accuracy:\", accuracy)\n",
        "\n",
        "# Calcul du rappel (recall)\n",
        "recall = recall_score(y_test, y_pred, average='macro')\n",
        "print(\"Recall:\", recall)\n",
        "\n",
        "# Calcul du F1-score\n",
        "f1score = f1_score(y_test, y_pred, average='macro')\n",
        "print(\"F1-score:\", f1score)\n"
      ]
    },
    {
      "cell_type": "markdown",
      "source": [
        "# **RNN**"
      ],
      "metadata": {
        "id": "ry4qWAWf2yV-"
      },
      "id": "ry4qWAWf2yV-"
    },
    {
      "cell_type": "code",
      "source": [
        "from sklearn.neural_network import MLPClassifier\n",
        "from sklearn.metrics import accuracy_score, recall_score, f1_score\n",
        "\n",
        "# Initialisation du modèle de réseau de neurones\n",
        "mlp_classifier = MLPClassifier(hidden_layer_sizes=(100,), max_iter=1000)\n",
        "\n",
        "# Entraînement du modèle\n",
        "mlp_classifier.fit(X_train, y_train)\n",
        "\n",
        "# Prédiction sur l'ensemble de test\n",
        "predictions_test_mlp = mlp_classifier.predict(X_test)\n",
        "\n",
        "# Calcul de la précision pour l'ensemble de test\n",
        "accuracy_test_mlp = accuracy_score(y_test, predictions_test_mlp)\n",
        "recall_test_mlp = recall_score(y_test, predictions_test_mlp)\n",
        "f1score_test_mlp = f1_score(y_test, predictions_test_mlp)\n",
        "\n",
        "# Affichage des métriques\n",
        "print(\"Précision sur l'ensemble de test :\", accuracy_test_mlp)\n",
        "print(\"Recall sur l'ensemble de test :\", recall_test_mlp)\n",
        "print(\"F1-score sur l'ensemble de test :\", f1score_test_mlp)\n"
      ],
      "metadata": {
        "id": "wiyasTEl2ojy"
      },
      "id": "wiyasTEl2ojy",
      "execution_count": null,
      "outputs": []
    },
    {
      "cell_type": "code",
      "source": [
        "# Data for the algorithms\n",
        "algorithms = ['Random_Forest', 'Decision_Tree', 'SVM', 'Log_Reg', 'KNN','RNN']\n",
        "accuracy = [accuracy_score(y_test, y_pred_rfc),accuracy_score(y_test, y_pred_dt),accuracy_score(y_test, y_pred_svm),\n",
        "            accuracy_score(y_test, y_pred_lr),accuracy_score(y_test, y_pred_knn),accuracy_score(y_test, y_pred_xgb),\n",
        "            accuracy_score(y_test, y_pred_nb)]\n",
        "\n",
        "recall = [recall_score(y_test, y_pred_rfc),recall_score(y_test, y_pred_dt),recall_score(y_test, y_pred_svm),\n",
        "            recall_score(y_test, y_pred_lr),recall_score(y_test, y_pred_knn),recall_score(y_test, y_pred_xgb),\n",
        "            recall_score(y_test, y_pred_nb)]\n",
        "\n",
        "f1_scores = [f1_score(y_test, y_pred_rfc),f1_score(y_test, y_pred_dt),f1_score(y_test, y_pred_svm),\n",
        "            f1_score(y_test, y_pred_lr),f1_score(y_test, y_pred_knn),f1_score(y_test, y_pred_xgb),\n",
        "            f1_score(y_test, y_pred_nb)]\n",
        "\n",
        "# Set the width of each bar\n",
        "bar_width = 0.25\n",
        "\n",
        "# Set the positions of the bars on the x-axis\n",
        "r1 = range(len(algorithms))\n",
        "r2 = [x + bar_width for x in r1]\n",
        "r3 = [x + 2*bar_width for x in r1]\n",
        "\n",
        "plt.figure(figsize=(20,8))\n",
        "\n",
        "# Create the bar chart\n",
        "plt.bar(r1, accuracy, color='mediumspringgreen', width=bar_width, label='accuracy')\n",
        "plt.bar(r2, recall, color='cornflowerblue', width=bar_width, label='Recall')\n",
        "plt.bar(r3, f1_scores, color='indianred', width=bar_width, label='F1-score')\n",
        "\n",
        "# Set the x-axis labels and title\n",
        "plt.xlabel('Algorithms', fontsize=18)\n",
        "plt.ylabel('Score', fontsize=18)\n",
        "plt.title('Comparison of Algorithms - Accuracy, Recall, and F1-score', fontsize=18)\n",
        "\n",
        "# Set the x-axis tick positions and labels\n",
        "plt.xticks([r + bar_width for r in range(len(algorithms))], algorithms)\n",
        "\n",
        "# Add a legend\n",
        "plt.legend()\n",
        "\n",
        "\n",
        "# Show the bar chart\n",
        "plt.show()"
      ],
      "metadata": {
        "id": "qflCP8BaMVXj"
      },
      "id": "qflCP8BaMVXj",
      "execution_count": null,
      "outputs": []
    }
  ],
  "metadata": {
    "colab": {
      "provenance": [],
      "include_colab_link": true
    },
    "kernelspec": {
      "display_name": "Python 3 (ipykernel)",
      "language": "python",
      "name": "python3"
    },
    "language_info": {
      "codemirror_mode": {
        "name": "ipython",
        "version": 3
      },
      "file_extension": ".py",
      "mimetype": "text/x-python",
      "name": "python",
      "nbconvert_exporter": "python",
      "pygments_lexer": "ipython3",
      "version": "3.9.18"
    }
  },
  "nbformat": 4,
  "nbformat_minor": 5
}